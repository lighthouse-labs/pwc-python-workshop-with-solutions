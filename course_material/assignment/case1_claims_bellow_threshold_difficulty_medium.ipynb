{
 "cells": [
  {
   "cell_type": "markdown",
   "metadata": {},
   "source": [
    "### Fraud Case 1: Claims just below an approval threshold\n",
    "Assuming that the signing limit of a company is \\\\$500. If someone was trying to defraud the company, they'd probably want to keep the payment amount below this threshold. To identify this type of fraud, write a program that:\n",
    "- finds a list of unique claimants (`claimant` column)\n",
    "- loops through the list of unique claimants and for each claimant\n",
    "   * finds all submitted claims\n",
    "   * finds the number of claims where the total amount (sum of `amount` and `tax_amount`) is between \\\\$490 and \\\\$500 \n",
    "   * calculates percentage of claims just below the threshold\n",
    "   * prints the claimant name if the percentage is greater than 20%\n",
    "  "
   ]
  },
  {
   "cell_type": "code",
   "execution_count": null,
   "metadata": {},
   "outputs": [],
   "source": [
    "# importing data\n",
    "import pandas as pd\n",
    "data = pd.read_csv('assignment-data.csv')\n",
    "\n",
    "# importing validation function\n",
    "from ipynb.fs.full.utilities import validate"
   ]
  },
  {
   "cell_type": "code",
   "execution_count": null,
   "metadata": {},
   "outputs": [],
   "source": [
    "# Step 1) Find a list of unique claimants\n",
    "# HINT: There is a column in the data called claimant\n",
    "# HINT: Refer to item 3 in the cheat sheet\n",
    "\n\n\n",
    "# Step 2) Loop through the list of unique claimants using a for loop\n",
    "# HINT: Refer to item 10 in the cheat sheet\n",
    "# HINT: Remember that only the code that is tabbed over under the for loop will run in a loop\n",    
    "\n\n\n",
    "    # Step 3) Filter the data to find all the claims submitted by the claimant selected in the current loop. \n",
    "    # Save this data in a variable called all_claims_for_claimant\n",
    "    # HINT: For example, if the loop above was written as `for name in unique_claimants`, then `name` would be contain the name of the claimant you want to filter for in this specific loop\n",
    "    # HINT: Refer to item 8 in the cheat sheet\n",
    "    \n\n\n",
    "    # Step 4) Find the claims in all_claims_for_claimant where the sum of amount and tax_amount is between $490 and $500. \n",
    "    # Call this variable suspect_claims\n",
    "    # HINT: Refer to item 8 in the cheat sheet. Specifically look at how to combine two filters\n",
    "    # HINT: You want to be filtering all_claims_for_claimant, not data\n",
    "    \n\n\n",
    "    # Step 5) Calculate the percentage of claims just below the approval threshold (number of suspect_claims / number of all_claims_for_claimant)\n",
    "    # HINT: Refer to item 12 in the cheat sheet\n",
    "    \n\n\n",
    "    # Step 6) Print the name of the claimant if the percentage is greater than 20%",
    "    \n\n\n"
   ]
  },
  {
   "cell_type": "code",
   "execution_count": null,
   "metadata": {},
   "outputs": [],
   "source": [
    "# Assign the name of the claimant with the highest percentage of claims just below the threshold to fraudster_name\n",
    "fraudster_name = '?'\n",
    "team_name = '?' #Enter a creative team name so we can identify you for prizing\n",
    "validate('FraudCase1', fraudster_name, team_name)"
   ]
  }
 ],
 "metadata": {
  "kernelspec": {
   "display_name": "Python 3",
   "language": "python",
   "name": "python3"
  },
  "language_info": {
   "codemirror_mode": {
    "name": "ipython",
    "version": 3
   },
   "file_extension": ".py",
   "mimetype": "text/x-python",
   "name": "python",
   "nbconvert_exporter": "python",
   "pygments_lexer": "ipython3",
   "version": "3.7.3"
  }
 },
 "nbformat": 4,
 "nbformat_minor": 2
}
