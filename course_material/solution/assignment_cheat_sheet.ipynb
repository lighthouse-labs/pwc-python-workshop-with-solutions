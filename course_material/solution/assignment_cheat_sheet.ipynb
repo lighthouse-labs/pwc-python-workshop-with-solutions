{
 "cells": [
  {
   "cell_type": "markdown",
   "metadata": {},
   "source": [
    "# Cheat Sheet"
   ]
  },
  {
   "cell_type": "markdown",
   "metadata": {},
   "source": [
    "### 1. To create a new empty Pandas dataframe with 3 columns:\n",
    "   \n",
    "```\n",
    "data = pd.DataFrame(columns = ['column_name_1', 'column_name_2', 'column_name_3'])\n",
    "```\n",
    "\n",
    "Example:   "
   ]
  },
  {
   "cell_type": "code",
   "execution_count": 1,
   "metadata": {},
   "outputs": [
    {
     "name": "stdout",
     "output_type": "stream",
     "text": [
      "Empty DataFrame\n",
      "Columns: [name, birth_date, height]\n",
      "Index: []\n"
     ]
    }
   ],
   "source": [
    "import pandas as pd\n",
    "data = pd.DataFrame(columns = ['name', 'birth_date', 'height'])\n",
    "print(data)"
   ]
  },
  {
   "cell_type": "markdown",
   "metadata": {},
   "source": [
    "---"
   ]
  },
  {
   "cell_type": "markdown",
   "metadata": {},
   "source": [
    "### 2. To add a row to a Pandas dataframe:\n",
    "\n",
    "```\n",
    "data = data.append({'column_name_1': column_value_1, 'column_name_2': column_value_2}, ignore_index=True)\n",
    "```\n",
    "\n",
    "Example:"
   ]
  },
  {
   "cell_type": "code",
   "execution_count": 2,
   "metadata": {},
   "outputs": [
    {
     "name": "stdout",
     "output_type": "stream",
     "text": [
      "    name  birth_date height\n",
      "0   John  1999-09-09     63\n",
      "1  Julia  1984-11-12     71\n",
      "2   Jack  1973-03-12     69\n",
      "3   Jack  2003-12-23     73\n"
     ]
    }
   ],
   "source": [
    "data = data.append({'name': 'John', 'birth_date': '1999-09-09', 'height': 63}, ignore_index=True)\n",
    "data = data.append({'name': 'Julia', 'birth_date': '1984-11-12', 'height': 71}, ignore_index=True)\n",
    "data = data.append({'name': 'Jack', 'birth_date': '1973-03-12', 'height': 69}, ignore_index=True)\n",
    "data = data.append({'name': 'Jack', 'birth_date': '2003-12-23', 'height': 73}, ignore_index=True)\n",
    "print(data)"
   ]
  },
  {
   "cell_type": "markdown",
   "metadata": {},
   "source": [
    "---"
   ]
  },
  {
   "cell_type": "markdown",
   "metadata": {},
   "source": [
    "### 3. To get unique values from a column in Pandas dataframe:\n",
    "\n",
    "```\n",
    "unique_values = data['column_name'].unique()\n",
    "```\n",
    "\n",
    "Example:"
   ]
  },
  {
   "cell_type": "code",
   "execution_count": 3,
   "metadata": {},
   "outputs": [
    {
     "name": "stdout",
     "output_type": "stream",
     "text": [
      "['John' 'Julia' 'Jack']\n"
     ]
    }
   ],
   "source": [
    "unique_names = data['name'].unique()\n",
    "print(unique_names)"
   ]
  },
  {
   "cell_type": "markdown",
   "metadata": {},
   "source": [
    "---"
   ]
  },
  {
   "cell_type": "markdown",
   "metadata": {},
   "source": [
    "### 4. To sort a Pandas dataframe by a one or more columns:\n",
    "\n",
    "```\n",
    "sorted_data = data['column_name'].sort_values(by=['column_name_1', 'column_name_2'], ascending=False)\n",
    "```\n",
    "\n",
    "Example:"
   ]
  },
  {
   "cell_type": "code",
   "execution_count": 4,
   "metadata": {},
   "outputs": [
    {
     "name": "stdout",
     "output_type": "stream",
     "text": [
      "    name  birth_date height\n",
      "2   Jack  1973-03-12     69\n",
      "3   Jack  2003-12-23     73\n",
      "0   John  1999-09-09     63\n",
      "1  Julia  1984-11-12     71\n"
     ]
    }
   ],
   "source": [
    "sorted_data = data.sort_values(by=['name', 'height'], ascending=True)\n",
    "print(sorted_data)"
   ]
  },
  {
   "cell_type": "code",
   "execution_count": 5,
   "metadata": {},
   "outputs": [
    {
     "name": "stdout",
     "output_type": "stream",
     "text": [
      "    name  birth_date height\n",
      "1  Julia  1984-11-12     71\n",
      "0   John  1999-09-09     63\n",
      "3   Jack  2003-12-23     73\n",
      "2   Jack  1973-03-12     69\n"
     ]
    }
   ],
   "source": [
    "sorted_data = data.sort_values(by=['name', 'height'], ascending=False)\n",
    "print(sorted_data)"
   ]
  },
  {
   "cell_type": "markdown",
   "metadata": {},
   "source": [
    "---"
   ]
  },
  {
   "cell_type": "markdown",
   "metadata": {},
   "source": [
    "### 5. To get the month from a date column in a Pandas dataframe:\n",
    "\n",
    "```\n",
    "data['new_column_name'] = pd.to_datetime(data['date_column_name']).dt.month\n",
    "```\n",
    "\n",
    "Example:"
   ]
  },
  {
   "cell_type": "code",
   "execution_count": 6,
   "metadata": {},
   "outputs": [
    {
     "name": "stdout",
     "output_type": "stream",
     "text": [
      "    name  birth_date height  birth_month\n",
      "0   John  1999-09-09     63            9\n",
      "1  Julia  1984-11-12     71           11\n",
      "2   Jack  1973-03-12     69            3\n",
      "3   Jack  2003-12-23     73           12\n"
     ]
    }
   ],
   "source": [
    "data['birth_month'] = pd.to_datetime(data['birth_date']).dt.month\n",
    "print(data)"
   ]
  },
  {
   "cell_type": "markdown",
   "metadata": {},
   "source": [
    "---"
   ]
  },
  {
   "cell_type": "markdown",
   "metadata": {},
   "source": [
    "### 6. To get the year from a date column in a Pandas dataframe and store it in a new column:\n",
    "\n",
    "```\n",
    "data['new_column_name'] = pd.to_datetime(data['date_column_name']).dt.year\n",
    "```\n",
    "\n",
    "Example:"
   ]
  },
  {
   "cell_type": "code",
   "execution_count": 7,
   "metadata": {},
   "outputs": [
    {
     "name": "stdout",
     "output_type": "stream",
     "text": [
      "    name  birth_date height  birth_month  birth_year\n",
      "0   John  1999-09-09     63            9        1999\n",
      "1  Julia  1984-11-12     71           11        1984\n",
      "2   Jack  1973-03-12     69            3        1973\n",
      "3   Jack  2003-12-23     73           12        2003\n"
     ]
    }
   ],
   "source": [
    "data['birth_year'] = pd.to_datetime(data['birth_date']).dt.year\n",
    "print(data)"
   ]
  },
  {
   "cell_type": "markdown",
   "metadata": {},
   "source": [
    "---"
   ]
  },
  {
   "cell_type": "markdown",
   "metadata": {},
   "source": [
    "### 7. To create a column based on values of other columns\n",
    "\n",
    "```\n",
    "data['new_column_name'] = data['column_name_1'] + data['column_name_2']\n",
    "```\n",
    "\n",
    "Example:"
   ]
  },
  {
   "cell_type": "code",
   "execution_count": 8,
   "metadata": {},
   "outputs": [
    {
     "name": "stdout",
     "output_type": "stream",
     "text": [
      "    name  birth_date height  birth_month  birth_year  age\n",
      "0   John  1999-09-09     63            9        1999   20\n",
      "1  Julia  1984-11-12     71           11        1984   35\n",
      "2   Jack  1973-03-12     69            3        1973   46\n",
      "3   Jack  2003-12-23     73           12        2003   16\n"
     ]
    }
   ],
   "source": [
    "data['age'] = 2019 - data['birth_year']\n",
    "print(data)"
   ]
  },
  {
   "cell_type": "markdown",
   "metadata": {},
   "source": [
    "---"
   ]
  },
  {
   "cell_type": "markdown",
   "metadata": {},
   "source": [
    "### 8. To filter a dataframe based on one or more condition\n",
    "\n",
    "```\n",
    "subdata = data[filter1]\n",
    "```\n",
    "\n",
    "```\n",
    "subdata = data[filter1 & filter2]\n",
    "```\n",
    "\n",
    "Example:"
   ]
  },
  {
   "cell_type": "code",
   "execution_count": 9,
   "metadata": {},
   "outputs": [
    {
     "name": "stdout",
     "output_type": "stream",
     "text": [
      "   name  birth_date height  birth_month  birth_year  age\n",
      "2  Jack  1973-03-12     69            3        1973   46\n",
      "3  Jack  2003-12-23     73           12        2003   16\n"
     ]
    }
   ],
   "source": [
    "filter1 = data['name'] == 'Jack'\n",
    "subdata = data[filter1]\n",
    "print(subdata)"
   ]
  },
  {
   "cell_type": "code",
   "execution_count": 10,
   "metadata": {},
   "outputs": [
    {
     "name": "stdout",
     "output_type": "stream",
     "text": [
      "   name  birth_date height  birth_month  birth_year  age\n",
      "3  Jack  2003-12-23     73           12        2003   16\n"
     ]
    }
   ],
   "source": [
    "filter1 = data['name'] == 'Jack'\n",
    "filter2 = data['age'] < 20\n",
    "subdata = data[filter1 & filter2]\n",
    "print(subdata)"
   ]
  },
  {
   "cell_type": "markdown",
   "metadata": {},
   "source": [
    "---"
   ]
  },
  {
   "cell_type": "markdown",
   "metadata": {},
   "source": [
    "### 9. To get the first `n` row from a pandas datafram\n",
    "\n",
    "```\n",
    "subdata = data.head(n)\n",
    "```\n",
    "\n",
    "Example:"
   ]
  },
  {
   "cell_type": "code",
   "execution_count": 11,
   "metadata": {},
   "outputs": [
    {
     "name": "stdout",
     "output_type": "stream",
     "text": [
      "    name  birth_date height  birth_month  birth_year  age\n",
      "0   John  1999-09-09     63            9        1999   20\n",
      "1  Julia  1984-11-12     71           11        1984   35\n"
     ]
    }
   ],
   "source": [
    "subdata = data.head(2)\n",
    "print(subdata)"
   ]
  },
  {
   "cell_type": "markdown",
   "metadata": {},
   "source": [
    "---"
   ]
  },
  {
   "cell_type": "markdown",
   "metadata": {},
   "source": [
    "### 10. To loop through a list\n",
    "\n",
    "```\n",
    "for x in list:\n",
    "    print(x)\n",
    "        \n",
    "```\n",
    "\n",
    "Example:"
   ]
  },
  {
   "cell_type": "code",
   "execution_count": null,
   "metadata": {},
   "outputs": [],
   "source": [
    "list = ['Jack', 'Julia', 'John']\n",
    "for x in list:\n",
    "    print(x)"
   ]
  },
  {
   "cell_type": "markdown",
   "metadata": {},
   "source": [
    "---"
   ]
  },
  {
   "cell_type": "markdown",
   "metadata": {},
   "source": [
    "### 11. To loop through rows of a Pandas dataframs\n",
    "\n",
    "```\n",
    "for index, row in data.iterrows():\n",
    "    print(index)\n",
    "        \n",
    "```\n",
    "\n",
    "Example:"
   ]
  },
  {
   "cell_type": "code",
   "execution_count": 29,
   "metadata": {},
   "outputs": [
    {
     "name": "stdout",
     "output_type": "stream",
     "text": [
      "The name in row  0  is  John\n",
      "The name in row  1  is  Julia\n",
      "The name in row  2  is  Jack\n",
      "The name in row  3  is  Jack\n"
     ]
    }
   ],
   "source": [
    "for index, row in data.iterrows():\n",
    "    print('The name in row ', index, ' is ', row['name'])"
   ]
  },
  {
   "cell_type": "markdown",
   "metadata": {},
   "source": [
    "---"
   ]
  },
  {
   "cell_type": "markdown",
   "metadata": {},
   "source": [
    "### 12. To get the length of a list\n",
    "\n",
    "```\n",
    "n = len(list)\n",
    "        \n",
    "```\n",
    "\n",
    "Example:"
   ]
  },
  {
   "cell_type": "code",
   "execution_count": 13,
   "metadata": {},
   "outputs": [
    {
     "name": "stdout",
     "output_type": "stream",
     "text": [
      "3\n"
     ]
    }
   ],
   "source": [
    "list = ['Jack', 'Julia', 'John']\n",
    "n = len(list)\n",
    "print(n)"
   ]
  },
  {
   "cell_type": "markdown",
   "metadata": {},
   "source": [
    "---"
   ]
  },
  {
   "cell_type": "markdown",
   "metadata": {},
   "source": [
    "### 13. To excute a block of code if a condition is met\n",
    "\n",
    "```\n",
    "if codition:\n",
    "    print(x)\n",
    "        \n",
    "```\n",
    "\n",
    "Example:"
   ]
  },
  {
   "cell_type": "code",
   "execution_count": 14,
   "metadata": {},
   "outputs": [
    {
     "name": "stdout",
     "output_type": "stream",
     "text": [
      "Good day\n"
     ]
    }
   ],
   "source": [
    "hour = 10\n",
    "if hour < 18:\n",
    "    print('Good day')"
   ]
  },
  {
   "cell_type": "markdown",
   "metadata": {},
   "source": [
    "---"
   ]
  },
  {
   "cell_type": "markdown",
   "metadata": {},
   "source": [
    "### 14. To round a floating point number to `n` digits after the decimal point:\n",
    "\n",
    "```\n",
    "rounded_num = round(number, n)\n",
    "```\n",
    "\n",
    "Example:"
   ]
  },
  {
   "cell_type": "code",
   "execution_count": 15,
   "metadata": {},
   "outputs": [
    {
     "name": "stdout",
     "output_type": "stream",
     "text": [
      "23.45\n"
     ]
    }
   ],
   "source": [
    "rounded_num = round(23.45198, 2)\n",
    "print(rounded_num)"
   ]
  },
  {
   "cell_type": "markdown",
   "metadata": {},
   "source": [
    "---"
   ]
  },
  {
   "cell_type": "markdown",
   "metadata": {},
   "source": [
    "### 15. To create lowercased string from the given string:\n",
    "\n",
    "```\n",
    "lowercased_name = string.lower()\n",
    "```\n",
    "\n",
    "Example:"
   ]
  },
  {
   "cell_type": "code",
   "execution_count": 16,
   "metadata": {},
   "outputs": [
    {
     "name": "stdout",
     "output_type": "stream",
     "text": [
      "python data analysis workshop\n"
     ]
    }
   ],
   "source": [
    "string = 'Python Data Analysis Workshop'\n",
    "lowercased_name = string.lower()\n",
    "print(lowercased_name)"
   ]
  },
  {
   "cell_type": "markdown",
   "metadata": {},
   "source": [
    "---"
   ]
  },
  {
   "cell_type": "markdown",
   "metadata": {},
   "source": [
    "### 16. To create uppercased string from the given string:\n",
    "\n",
    "```\n",
    "lowercased_name = string.upper()\n",
    "```\n",
    "\n",
    "Example:"
   ]
  },
  {
   "cell_type": "code",
   "execution_count": 17,
   "metadata": {},
   "outputs": [
    {
     "name": "stdout",
     "output_type": "stream",
     "text": [
      "PYTHON DATA ANALYSIS WORKSHOP\n"
     ]
    }
   ],
   "source": [
    "string = 'Python Data Analysis Workshop'\n",
    "uppercased_name = string.upper()\n",
    "print(uppercased_name)"
   ]
  },
  {
   "cell_type": "markdown",
   "metadata": {},
   "source": [
    "---"
   ]
  },
  {
   "cell_type": "markdown",
   "metadata": {},
   "source": [
    "### 17. To plot a line graph using matplotlib package with x and y labels\n",
    "\n",
    "```\n",
    "plt.plot(list1, list2)\n",
    "plt.xlabel(\"x lable\")\n",
    "plt.ylabel(\"y lable\")\n",
    "```\n",
    "\n",
    "Example:"
   ]
  },
  {
   "cell_type": "code",
   "execution_count": 18,
   "metadata": {},
   "outputs": [
    {
     "data": {
      "text/plain": [
       "Text(0, 0.5, 'y-axis label')"
      ]
     },
     "execution_count": 18,
     "metadata": {},
     "output_type": "execute_result"
    }
   ],
   "source": [
    "import matplotlib.pyplot as plt\n",
    "list1 = [1, 2, 3, 4, 5]\n",
    "list2 = [1, 4, 9, 16, 25]\n",
    "plt.plot(list1, list2)\n",
    "plt.xlabel(\"x-axis label\")\n",
    "plt.ylabel(\"y-axis label\")"
   ]
  },
  {
   "cell_type": "markdown",
   "metadata": {},
   "source": [
    "---"
   ]
  },
  {
   "cell_type": "markdown",
   "metadata": {},
   "source": [
    "### 18. To open an image file using PIL package\n",
    "\n",
    "```\n",
    "img = PIL.Image.open(image_file)\n",
    "```\n",
    "\n",
    "Example:"
   ]
  },
  {
   "cell_type": "code",
   "execution_count": 19,
   "metadata": {},
   "outputs": [],
   "source": [
    "import PIL\n",
    "img = PIL.Image.open('test_image.png')"
   ]
  },
  {
   "cell_type": "markdown",
   "metadata": {},
   "source": [
    "---"
   ]
  },
  {
   "cell_type": "markdown",
   "metadata": {},
   "source": [
    "### 19. To read text from image using pytesseract package\n",
    "\n",
    "```\n",
    "text = pytesseract.image_to_string(img)\n",
    "```\n",
    "\n",
    "Example:"
   ]
  },
  {
   "cell_type": "code",
   "execution_count": 20,
   "metadata": {},
   "outputs": [
    {
     "name": "stdout",
     "output_type": "stream",
     "text": [
      "Python For Data Analysis Workshop\n",
      "Lighthouse Labs\n"
     ]
    }
   ],
   "source": [
    "import pytesseract\n",
    "text = pytesseract.image_to_string(img)\n",
    "print(text)"
   ]
  },
  {
   "cell_type": "markdown",
   "metadata": {},
   "source": [
    "---"
   ]
  },
  {
   "cell_type": "markdown",
   "metadata": {},
   "source": [
    "### 20. To split the text read from an image into lines\n",
    "\n",
    "```\n",
    "lines = text.split('\\n')\n",
    "```\n",
    "\n",
    "Example:"
   ]
  },
  {
   "cell_type": "code",
   "execution_count": 21,
   "metadata": {},
   "outputs": [
    {
     "name": "stdout",
     "output_type": "stream",
     "text": [
      "['Python For Data Analysis Workshop', 'Lighthouse Labs']\n"
     ]
    }
   ],
   "source": [
    "lines = text.split('\\n')\n",
    "print(lines)"
   ]
  },
  {
   "cell_type": "markdown",
   "metadata": {},
   "source": [
    "---"
   ]
  },
  {
   "cell_type": "markdown",
   "metadata": {},
   "source": [
    "### 21. To get a substring from a string\n",
    "\n",
    "```\n",
    "substring = string[start_index:end_index]\n",
    "```\n",
    "\n",
    "Example:"
   ]
  },
  {
   "cell_type": "code",
   "execution_count": 22,
   "metadata": {},
   "outputs": [
    {
     "name": "stdout",
     "output_type": "stream",
     "text": [
      " John\n"
     ]
    }
   ],
   "source": [
    "string = 'My name is John'\n",
    "name = string[10:15]\n",
    "print(name)"
   ]
  },
  {
   "cell_type": "markdown",
   "metadata": {},
   "source": [
    "---"
   ]
  },
  {
   "cell_type": "markdown",
   "metadata": {},
   "source": [
    "### 22. To change a string to a floating point number\n",
    "\n",
    "```\n",
    "num = float(string)\n",
    "```\n",
    "\n",
    "Example:"
   ]
  },
  {
   "cell_type": "code",
   "execution_count": 23,
   "metadata": {},
   "outputs": [
    {
     "name": "stdout",
     "output_type": "stream",
     "text": [
      "34.783\n"
     ]
    }
   ],
   "source": [
    "string = '34.783'\n",
    "num = float(string)\n",
    "print(num)"
   ]
  },
  {
   "cell_type": "markdown",
   "metadata": {},
   "source": [
    "---"
   ]
  }
 ],
 "metadata": {
  "kernelspec": {
   "display_name": "Python 3",
   "language": "python",
   "name": "python3"
  },
  "language_info": {
   "codemirror_mode": {
    "name": "ipython",
    "version": 3
   },
   "file_extension": ".py",
   "mimetype": "text/x-python",
   "name": "python",
   "nbconvert_exporter": "python",
   "pygments_lexer": "ipython3",
   "version": "3.7.3"
  }
 },
 "nbformat": 4,
 "nbformat_minor": 2
}
