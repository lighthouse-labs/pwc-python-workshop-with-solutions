{
 "cells": [
  {
   "cell_type": "markdown",
   "metadata": {},
   "source": [
    "# Assignment Outline\n",
    "A data set (`assignment-data.csv`) is provided to you which contains a list of claims submitted to a company in 2018. It has 100k rows and the following 11 columns:\n",
    "- `transaction_date`\n",
    "- `uploader`\n",
    "- `upload_date`\n",
    "- `merchant`\n",
    "- `amount`\n",
    "- `tax_type`\n",
    "- `tax_rate`\n",
    "- `tax_amount`\n",
    "- `receipt_image`\n",
    "- `approver`\n",
    "- `approval_date`\n",
    "\n",
    "The data is sorted by `upload_date`.\n",
    "\n",
    "In this assignment, you need to explore the data against 4 potential fraud cases. For each fraud case, a starter file is provided:\n",
    "- [`assignment_fraud_case_1.ipynb`](./assignment_fraud_case_1.ipynb)\n",
    "- [`assignment_fraud_case_2.ipynb`](./assignment_fraud_case_2.ipynb)\n",
    "- [`assignment_fraud_case_3.ipynb`](./assignment_fraud_case_3.ipynb)\n",
    "- [`assignment_fraud_case_4.ipynb`](./assignment_fraud_case_4.ipynb)\n",
    "\n",
    "in which a description of the fraud case is given and all the followings are imported and configured:\n",
    "- the data set\n",
    "- all necessary packages\n",
    "- a helper validation function\n",
    "- a helper tweet function"
   ]
  },
  {
   "cell_type": "code",
   "execution_count": null,
   "metadata": {},
   "outputs": [],
   "source": []
  }
 ],
 "metadata": {
  "kernelspec": {
   "display_name": "Python 3",
   "language": "python",
   "name": "python3"
  },
  "language_info": {
   "codemirror_mode": {
    "name": "ipython",
    "version": 3
   },
   "file_extension": ".py",
   "mimetype": "text/x-python",
   "name": "python",
   "nbconvert_exporter": "python",
   "pygments_lexer": "ipython3",
   "version": "3.7.3"
  }
 },
 "nbformat": 4,
 "nbformat_minor": 2
}
