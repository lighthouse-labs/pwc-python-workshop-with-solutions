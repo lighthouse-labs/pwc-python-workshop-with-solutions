{
 "cells": [
  {
   "cell_type": "markdown",
   "metadata": {},
   "source": [
    "### Fraud Case 2: Rounded Amount Invoices\n",
    "People who commit fraud often create invoices with rounded amounts, which are invoices without pennies. To explore the data set for any fraud of this nature, write a program that:\n",
    "- finds a list of unique claimants (`uploader` column)\n",
    "- loops through the list of unique claimants and for each claimant\n",
    "   * finds all the submitted claims\n",
    "   * finds the number of claims without pennies (`amount` column in the dataset)\n",
    "   * calculates the percentage of rounded-amount claims\n",
    "- ranks the claimants by those with a high percentage of rounded-amount claims"
   ]
  },
  {
   "cell_type": "code",
   "execution_count": 1,
   "metadata": {},
   "outputs": [],
   "source": [
    "# importing data\n",
    "import pandas as pd\n",
    "data = pd.read_csv('assignment-data.csv')\n",
    "\n",
    "# importing validation and tweet function\n",
    "from ipynb.fs.full.utilities import tweet\n",
    "from ipynb.fs.full.utilities import validate"
   ]
  },
  {
   "cell_type": "code",
   "execution_count": 2,
   "metadata": {},
   "outputs": [
    {
     "name": "stdout",
     "output_type": "stream",
     "text": [
      "               uploader  percentage\n",
      "28            Mojo Jojo       85.00\n",
      "26      Harleen Quinzel       76.19\n",
      "27        Norman Osborn        5.00\n",
      "17          Penny Proud        3.72\n",
      "16         Patrick Star        3.63\n",
      "13      Kenny McCormick        3.42\n",
      "25         Yosemite Sam        3.29\n",
      "22  Squidward Tentacles        3.28\n",
      "12       Jessica Rabbit        3.25\n",
      "11          Jane Jetson        3.24\n"
     ]
    }
   ],
   "source": [
    "# Find a list of unique claimants\n",
    "# HINT: Refer to item 3 in the cheat sheet\n",
    "uploaders = data['uploader'].unique()\n",
    "\n",
    "# Create a new dataframe with two colomns, uploader and percentage and call it uploader_data\n",
    "# We will be storing the uploader name and percentage of rounded-amount claims in this data_frame\n",
    "# HINT: Refer to item 1 in the cheat sheet\n",
    "uploader_data = pd.DataFrame(columns=['uploader', 'percentage'])\n",
    "\n",
    "# Loop through the list of unique claimants using a for loop\n",
    "# HINT: Refer to item 10 in the cheat sheet\n",
    "for uploader in uploaders:\n",
    "    \n",
    "    # Find all the claims submitted by the claimant\n",
    "    # HINT: Refer to item 8 in the cheat sheet\n",
    "    filter = data.uploader == uploader\n",
    "    uploader_claims = data[filter]\n",
    "\n",
    "    # Find all claims without pennies (amount column in the dataset)\n",
    "    # HINT: Refer to items 8 and 14 in the cheat sheet \n",
    "    filter = round(uploader_claims.amount) == uploader_claims.amount\n",
    "    rounded_amount_claims = uploader_claims[filter]\n",
    "\n",
    "    # Calculate the percentage of rounded-amount claims\n",
    "    # HINT: Refer to item 12 in the cheat sheet\n",
    "    percentage = round(len(rounded_amount_claims) / len(uploader_claims) * 100, 2)\n",
    "    \n",
    "    # Add a new row to uploader_date dataframe with the uploader name and the percantage\n",
    "    # HINT: Refer to item 2 in the cheat sheet\n",
    "    uploader_data = uploader_data.append({'uploader': uploader, 'percentage': percentage}, ignore_index=True)\n",
    "    \n",
    "# Sort the uploader_date dataframe by the percentage\n",
    "# HINT: Refer to item 4 in the cheat sheet\n",
    "sorted_data = uploader_data.sort_values(by=['percentage'], ascending=False)\n",
    "print(sorted_data.head(10))"
   ]
  },
  {
   "cell_type": "code",
   "execution_count": 3,
   "metadata": {},
   "outputs": [
    {
     "name": "stdout",
     "output_type": "stream",
     "text": [
      "Yay! You got it!\n"
     ]
    }
   ],
   "source": [
    "# Assign the name of the claimant with the highest percentage of rounded-amount claims to fraudster_name\n",
    "fraudster_name = str(sorted_data.iloc[0]['uploader'])\n",
    "validate('FraudCase2', fraudster_name)"
   ]
  }
 ],
 "metadata": {
  "kernelspec": {
   "display_name": "Python 3",
   "language": "python",
   "name": "python3"
  },
  "language_info": {
   "codemirror_mode": {
    "name": "ipython",
    "version": 3
   },
   "file_extension": ".py",
   "mimetype": "text/x-python",
   "name": "python",
   "nbconvert_exporter": "python",
   "pygments_lexer": "ipython3",
   "version": "3.7.3"
  }
 },
 "nbformat": 4,
 "nbformat_minor": 2
}
