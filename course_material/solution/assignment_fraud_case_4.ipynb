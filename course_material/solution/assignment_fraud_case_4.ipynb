{
 "cells": [
  {
   "cell_type": "markdown",
   "metadata": {},
   "source": [
    "### Fraud Case 4: Discrepancy between the submitted data and the receipt\n",
    "OCR can be used to identify any discrepancy between the data that is submitted and the receipt. To explore the data set for fraud of this nature, write a program that:\n",
    "- loops through the first 10 claims in the data set and for each claim data\n",
    "   * opens the receipt_image for each claim\n",
    "   * run the receipt images through OCR\n",
    "   * compares the information on the receipt with those in the data set (limit this comparison to `amount` and `tax_amount` columns)\n",
    "   * print a message whenever a discrepancy is found"
   ]
  },
  {
   "cell_type": "code",
   "execution_count": 1,
   "metadata": {},
   "outputs": [],
   "source": [
    "# importing data\n",
    "import pandas as pd\n",
    "data = pd.read_csv('assignment-data.csv')\n",
    "\n",
    "# importing validation and tweet function\n",
    "from ipynb.fs.full.utilities import tweet\n",
    "from ipynb.fs.full.utilities import validate\n",
    "\n",
    "# importing OCR libraries\n",
    "import PIL\n",
    "import pytesseract"
   ]
  },
  {
   "cell_type": "code",
   "execution_count": 2,
   "metadata": {},
   "outputs": [
    {
     "name": "stdout",
     "output_type": "stream",
     "text": [
      "Running receipt:  f33e4af2_b893_48da_9b74_85e22c177bee.png\n",
      "Running receipt:  93c3cd3c_d1c0_4bd4_9783_6964e8dbc739.png\n",
      "Running receipt:  ede261b1_0a33_41d1_9abb_df16eff289ac.png\n",
      "Running receipt:  8b480adf_9443_4359_ab3d_9b46be9f7a8d.png\n",
      "Running receipt:  c14ac3b5_9b1c_45d7_9be2_f9b4cba78fe8.png\n",
      "Discrepency in amount in  c14ac3b5_9b1c_45d7_9be2_f9b4cba78fe8.png\n",
      "Submitted:  48.88\n",
      "Claimed:  97.76\n",
      "Uploader:  Kid Marvelman\n",
      "Running receipt:  19b36c13_a64d_4ad0_809a_b088812e0840.png\n",
      "Running receipt:  39d5e67d_dca1_49d8_bb08_0251b3a1ff70.png\n",
      "Running receipt:  f934e8ba_43b4_4fe7_983d_b80dd9d2d6c2.png\n",
      "Running receipt:  3d784c6b_11b8_499e_b0d6_4d4bfa25319c.png\n",
      "Running receipt:  2d65d6de_c395_4ff8_ab7c_d3dbc6ce1a08.png\n"
     ]
    }
   ],
   "source": [
    "# Loop through the first 10 claims in the data set\n",
    "# HINT: Refer to item 9 and 11 in the cheat sheet\n",
    "claims = data.head(10)\n",
    "for index, row in claims.iterrows():\n",
    "    # Open the receipt_image for each claim\n",
    "    # HINT: Refer to item 18 in the cheat sheet\n",
    "    print('Running receipt: ', row['receipt_image'])\n",
    "    image_file = row['receipt_image']\n",
    "    img = PIL.Image.open(image_file)\n",
    "    \n",
    "    # Run the receipt images through OCR\n",
    "    # HINT: Refer to item 19 in the cheat sheet\n",
    "    text = pytesseract.image_to_string(img)\n",
    "    \n",
    "    # Split the text into lines\n",
    "    # HINT: Refer to item 20 in the cheat sheet\n",
    "    lines = text.split('\\n')\n",
    "\n",
    "    # Find the subtotal line in the list of lines and store it in subtotal_line variable\n",
    "    subtotal_line = lines[-7]\n",
    "    \n",
    "    # Find the subtotal value in the subtotal_line and convert to a floating point number\n",
    "    # HINT: Refer to item 21 and 22 in the cheat sheet\n",
    "    amount = float(subtotal_line[8:])\n",
    "    \n",
    "    # If the amount column in the data set does not match the subtotal on the receipt, print a message\n",
    "    # HINT: Refer to item 12 in the cheat sheet\n",
    "    if amount != row['amount']:\n",
    "        print('Discrepency in amount in ', image_file)\n",
    "        print('Submitted: ', amount)\n",
    "        print('Claimed: ', row['amount'])\n",
    "        print('Uploader: ', row['uploader'])\n",
    "\n",
    "        \n",
    "    # Find the tax line in the list of lines and store it in tax_line variable\n",
    "    tax_line = lines[-6]\n",
    "\n",
    "    # Find the tax value in the tax_line and convert to a floating point number\n",
    "    # HINT: Refer to item 21 and 22 in the cheat sheet\n",
    "    tax_amount = float(tax_line[3:])\n",
    "\n",
    "    # If the tax_amount column in the data set does not match the tax value on the receipt, print a message\n",
    "    # HINT: Refer to item 13 in the cheat sheet\n",
    "    if tax_amount != row[\"tax_amount\"]:\n",
    "        print('Discrepency in amount in ', image_file)\n",
    "        print('Submitted: ', tax_amount)\n",
    "        print('Claimed: ', row['tax_amount'])\n",
    "        print('Uploader: ', row['uploader'])"
   ]
  },
  {
   "cell_type": "code",
   "execution_count": 3,
   "metadata": {},
   "outputs": [
    {
     "name": "stdout",
     "output_type": "stream",
     "text": [
      "Yay! You got it!\n"
     ]
    }
   ],
   "source": [
    "# Assign the name of the claimant with discrepency in the submitted data and the uploaded receipt to fraudster_name\n",
    "fraudster_name = 'Kid Marvelman'\n",
    "validate('FraudCase4', fraudster_name)"
   ]
  }
 ],
 "metadata": {
  "kernelspec": {
   "display_name": "Python 3",
   "language": "python",
   "name": "python3"
  },
  "language_info": {
   "codemirror_mode": {
    "name": "ipython",
    "version": 3
   },
   "file_extension": ".py",
   "mimetype": "text/x-python",
   "name": "python",
   "nbconvert_exporter": "python",
   "pygments_lexer": "ipython3",
   "version": "3.7.3"
  }
 },
 "nbformat": 4,
 "nbformat_minor": 2
}
